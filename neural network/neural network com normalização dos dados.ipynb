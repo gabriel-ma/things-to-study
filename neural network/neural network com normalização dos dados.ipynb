{
 "cells": [
  {
   "cell_type": "code",
   "execution_count": 18,
   "metadata": {},
   "outputs": [],
   "source": [
    "from sklearn import datasets"
   ]
  },
  {
   "cell_type": "code",
   "execution_count": 19,
   "metadata": {},
   "outputs": [],
   "source": [
    "cancer = datasets.load_breast_cancer()\n",
    "x, y = cancer.data, cancer.target"
   ]
  },
  {
   "cell_type": "code",
   "execution_count": 20,
   "metadata": {},
   "outputs": [],
   "source": [
    "from sklearn.model_selection import train_test_split\n",
    "x_train, x_test, y_train, y_test = train_test_split(x,y)\n"
   ]
  },
  {
   "cell_type": "code",
   "execution_count": 21,
   "metadata": {},
   "outputs": [],
   "source": [
    "from sklearn.preprocessing import StandardScaler\n",
    "scaler = StandardScaler()"
   ]
  },
  {
   "cell_type": "code",
   "execution_count": 22,
   "metadata": {},
   "outputs": [
    {
     "name": "stdout",
     "output_type": "stream",
     "text": [
      "Antes da transformação\n",
      "---------\n",
      "[[1.249e+01 1.685e+01 7.919e+01 4.816e+02 8.511e-02 3.834e-02 4.473e-03\n",
      "  6.423e-03 1.215e-01 5.673e-02 1.716e-01 7.151e-01 1.047e+00 1.269e+01\n",
      "  4.928e-03 3.012e-03 2.620e-03 3.390e-03 1.393e-02 1.344e-03 1.334e+01\n",
      "  1.971e+01 8.448e+01 5.442e+02 1.104e-01 4.953e-02 1.938e-02 2.784e-02\n",
      "  1.917e-01 6.174e-02]]\n",
      "[[1.499e+01 2.211e+01 9.753e+01 6.937e+02 8.515e-02 1.025e-01 6.859e-02\n",
      "  3.876e-02 1.944e-01 5.913e-02 3.186e-01 1.336e+00 2.310e+00 2.851e+01\n",
      "  4.449e-03 2.808e-02 3.312e-02 1.196e-02 1.906e-02 4.015e-03 1.676e+01\n",
      "  3.155e+01 1.102e+02 8.671e+02 1.077e-01 3.345e-01 3.114e-01 1.308e-01\n",
      "  3.163e-01 9.251e-02]]\n",
      "Depois da transformação\n",
      "---------\n",
      "[[-0.4894437  -0.59702134 -0.54957515 -0.51532172 -0.79857104 -1.25444786\n",
      "  -1.0673497  -1.10802875 -2.14943579 -0.86629186 -0.81431293 -0.94675271\n",
      "  -0.87171941 -0.59478144 -0.68164275 -1.25408423 -0.91709421 -1.36452523\n",
      "  -0.77964366 -0.93519242 -0.62937296 -1.02414453 -0.69862093 -0.61271174\n",
      "  -0.95692285 -1.30132236 -1.22642546 -1.32586387 -1.58079968 -1.22574407]]\n",
      "[[ 0.20706617  0.62340409  0.19130525  0.07274841 -0.7958093  -0.049325\n",
      "  -0.28207974 -0.29228619  0.50531514 -0.52116185 -0.31665363  0.19093253\n",
      "  -0.27459828 -0.27216017 -0.83844485  0.14382294  0.03137023  0.04509262\n",
      "  -0.16465094  0.09307704  0.06085055  0.9107407   0.04975381 -0.06238331\n",
      "  -1.07092271  0.47917972  0.15661687  0.21521218  0.4129894   0.45797888]]\n"
     ]
    }
   ],
   "source": [
    "scaler.fit(x_train)\n",
    "print('Antes da transformação\\n---------')\n",
    "print(x_train[:1])\n",
    "print(x_test[:1])\n",
    "x_train = scaler.transform(x_train)\n",
    "x_test = scaler.transform(x_test)\n",
    "print('Depois da transformação\\n---------')\n",
    "print(x_train[:1])\n",
    "print(x_test[:1])"
   ]
  },
  {
   "cell_type": "code",
   "execution_count": null,
   "metadata": {},
   "outputs": [],
   "source": []
  }
 ],
 "metadata": {
  "kernelspec": {
   "display_name": "Python 2",
   "language": "python",
   "name": "python2"
  },
  "language_info": {
   "codemirror_mode": {
    "name": "ipython",
    "version": 2
   },
   "file_extension": ".py",
   "mimetype": "text/x-python",
   "name": "python",
   "nbconvert_exporter": "python",
   "pygments_lexer": "ipython2",
   "version": "2.7.15"
  }
 },
 "nbformat": 4,
 "nbformat_minor": 2
}
