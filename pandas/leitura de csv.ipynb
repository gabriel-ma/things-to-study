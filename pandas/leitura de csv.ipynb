{
 "cells": [
  {
   "cell_type": "code",
   "execution_count": 3,
   "metadata": {},
   "outputs": [
    {
     "data": {
      "text/html": [
       "<div>\n",
       "<style scoped>\n",
       "    .dataframe tbody tr th:only-of-type {\n",
       "        vertical-align: middle;\n",
       "    }\n",
       "\n",
       "    .dataframe tbody tr th {\n",
       "        vertical-align: top;\n",
       "    }\n",
       "\n",
       "    .dataframe thead th {\n",
       "        text-align: right;\n",
       "    }\n",
       "</style>\n",
       "<table border=\"1\" class=\"dataframe\">\n",
       "  <thead>\n",
       "    <tr style=\"text-align: right;\">\n",
       "      <th></th>\n",
       "      <th>Posicao</th>\n",
       "      <th>Quartos</th>\n",
       "      <th>Vagas</th>\n",
       "      <th>DistIpanema</th>\n",
       "      <th>DistPraia</th>\n",
       "      <th>DistFavela</th>\n",
       "      <th>RendaMedia</th>\n",
       "      <th>RendaMovel</th>\n",
       "      <th>RendaMovelRua</th>\n",
       "      <th>Vu2009</th>\n",
       "      <th>Mes</th>\n",
       "      <th>Idade</th>\n",
       "      <th>Tipologia</th>\n",
       "      <th>AreaConstruida</th>\n",
       "      <th>VAL_UNIT</th>\n",
       "      <th>X</th>\n",
       "      <th>Y</th>\n",
       "    </tr>\n",
       "  </thead>\n",
       "  <tbody>\n",
       "    <tr>\n",
       "      <th>0</th>\n",
       "      <td>1</td>\n",
       "      <td>3.0</td>\n",
       "      <td>0.01</td>\n",
       "      <td>1144</td>\n",
       "      <td>311</td>\n",
       "      <td>146</td>\n",
       "      <td>969501</td>\n",
       "      <td>1028834</td>\n",
       "      <td>999168</td>\n",
       "      <td>1750</td>\n",
       "      <td>509</td>\n",
       "      <td>37.0</td>\n",
       "      <td>1</td>\n",
       "      <td>95</td>\n",
       "      <td>4379</td>\n",
       "      <td>685365.0700</td>\n",
       "      <td>7457802.680</td>\n",
       "    </tr>\n",
       "    <tr>\n",
       "      <th>1</th>\n",
       "      <td>0</td>\n",
       "      <td>2.0</td>\n",
       "      <td>0.01</td>\n",
       "      <td>2456</td>\n",
       "      <td>502</td>\n",
       "      <td>254</td>\n",
       "      <td>1472861</td>\n",
       "      <td>1137759</td>\n",
       "      <td>1305310</td>\n",
       "      <td>2300</td>\n",
       "      <td>484</td>\n",
       "      <td>30.0</td>\n",
       "      <td>1</td>\n",
       "      <td>71</td>\n",
       "      <td>6479</td>\n",
       "      <td>685941.5500</td>\n",
       "      <td>7459001.320</td>\n",
       "    </tr>\n",
       "    <tr>\n",
       "      <th>2</th>\n",
       "      <td>0</td>\n",
       "      <td>2.0</td>\n",
       "      <td>0.01</td>\n",
       "      <td>2448</td>\n",
       "      <td>772</td>\n",
       "      <td>229</td>\n",
       "      <td>1803724</td>\n",
       "      <td>1512475</td>\n",
       "      <td>1658100</td>\n",
       "      <td>2350</td>\n",
       "      <td>920</td>\n",
       "      <td>44.0</td>\n",
       "      <td>1</td>\n",
       "      <td>58</td>\n",
       "      <td>12414</td>\n",
       "      <td>685627.3900</td>\n",
       "      <td>7459080.520</td>\n",
       "    </tr>\n",
       "    <tr>\n",
       "      <th>3</th>\n",
       "      <td>0</td>\n",
       "      <td>2.0</td>\n",
       "      <td>0.01</td>\n",
       "      <td>1615</td>\n",
       "      <td>428</td>\n",
       "      <td>310</td>\n",
       "      <td>1124331</td>\n",
       "      <td>1370600</td>\n",
       "      <td>1247466</td>\n",
       "      <td>2200</td>\n",
       "      <td>930</td>\n",
       "      <td>43.0</td>\n",
       "      <td>1</td>\n",
       "      <td>88</td>\n",
       "      <td>11250</td>\n",
       "      <td>685438.2001</td>\n",
       "      <td>7458268.280</td>\n",
       "    </tr>\n",
       "    <tr>\n",
       "      <th>4</th>\n",
       "      <td>0</td>\n",
       "      <td>2.0</td>\n",
       "      <td>1.00</td>\n",
       "      <td>2358</td>\n",
       "      <td>586</td>\n",
       "      <td>287</td>\n",
       "      <td>1165764</td>\n",
       "      <td>1177933</td>\n",
       "      <td>1171849</td>\n",
       "      <td>2150</td>\n",
       "      <td>918</td>\n",
       "      <td>42.0</td>\n",
       "      <td>1</td>\n",
       "      <td>68</td>\n",
       "      <td>13382</td>\n",
       "      <td>685764.3840</td>\n",
       "      <td>7458954.513</td>\n",
       "    </tr>\n",
       "  </tbody>\n",
       "</table>\n",
       "</div>"
      ],
      "text/plain": [
       "   Posicao  Quartos  Vagas  DistIpanema  DistPraia  DistFavela  RendaMedia  \\\n",
       "0        1      3.0   0.01         1144        311         146      969501   \n",
       "1        0      2.0   0.01         2456        502         254     1472861   \n",
       "2        0      2.0   0.01         2448        772         229     1803724   \n",
       "3        0      2.0   0.01         1615        428         310     1124331   \n",
       "4        0      2.0   1.00         2358        586         287     1165764   \n",
       "\n",
       "   RendaMovel  RendaMovelRua  Vu2009  Mes  Idade  Tipologia  AreaConstruida  \\\n",
       "0     1028834         999168    1750  509   37.0          1              95   \n",
       "1     1137759        1305310    2300  484   30.0          1              71   \n",
       "2     1512475        1658100    2350  920   44.0          1              58   \n",
       "3     1370600        1247466    2200  930   43.0          1              88   \n",
       "4     1177933        1171849    2150  918   42.0          1              68   \n",
       "\n",
       "   VAL_UNIT            X            Y  \n",
       "0      4379  685365.0700  7457802.680  \n",
       "1      6479  685941.5500  7459001.320  \n",
       "2     12414  685627.3900  7459080.520  \n",
       "3     11250  685438.2001  7458268.280  \n",
       "4     13382  685764.3840  7458954.513  "
      ]
     },
     "execution_count": 3,
     "metadata": {},
     "output_type": "execute_result"
    }
   ],
   "source": [
    "import pandas as pd\n",
    "copacabana = pd.read_csv('copacabana.csv', delimiter=';')\n",
    "copacabana.head()"
   ]
  },
  {
   "cell_type": "code",
   "execution_count": 4,
   "metadata": {},
   "outputs": [
    {
     "data": {
      "text/plain": [
       "Index([u'Posicao', u'Quartos', u'Vagas', u'DistIpanema', u'DistPraia',\n",
       "       u'DistFavela', u'RendaMedia', u'RendaMovel', u'RendaMovelRua',\n",
       "       u'Vu2009', u'Mes', u'Idade', u'Tipologia', u'AreaConstruida',\n",
       "       u'VAL_UNIT', u'X', u'Y'],\n",
       "      dtype='object')"
      ]
     },
     "execution_count": 4,
     "metadata": {},
     "output_type": "execute_result"
    }
   ],
   "source": [
    "copacabana.columns"
   ]
  },
  {
   "cell_type": "code",
   "execution_count": 6,
   "metadata": {},
   "outputs": [
    {
     "data": {
      "text/plain": [
       "count    1675.000000\n",
       "mean        1.767510\n",
       "std         1.142523\n",
       "min         0.010000\n",
       "25%         1.000000\n",
       "50%         2.000000\n",
       "75%         3.000000\n",
       "max         6.000000\n",
       "Name: Quartos, dtype: float64"
      ]
     },
     "execution_count": 6,
     "metadata": {},
     "output_type": "execute_result"
    }
   ],
   "source": [
    "copacabana['Quartos'].describe()"
   ]
  },
  {
   "cell_type": "code",
   "execution_count": 10,
   "metadata": {},
   "outputs": [
    {
     "data": {
      "text/html": [
       "<div>\n",
       "<style scoped>\n",
       "    .dataframe tbody tr th:only-of-type {\n",
       "        vertical-align: middle;\n",
       "    }\n",
       "\n",
       "    .dataframe tbody tr th {\n",
       "        vertical-align: top;\n",
       "    }\n",
       "\n",
       "    .dataframe thead th {\n",
       "        text-align: right;\n",
       "    }\n",
       "</style>\n",
       "<table border=\"1\" class=\"dataframe\">\n",
       "  <thead>\n",
       "    <tr style=\"text-align: right;\">\n",
       "      <th></th>\n",
       "      <th>Posicao</th>\n",
       "      <th>Quartos</th>\n",
       "      <th>Vagas</th>\n",
       "      <th>DistIpanema</th>\n",
       "      <th>DistPraia</th>\n",
       "      <th>DistFavela</th>\n",
       "      <th>RendaMedia</th>\n",
       "      <th>RendaMovel</th>\n",
       "      <th>RendaMovelRua</th>\n",
       "      <th>Vu2009</th>\n",
       "      <th>Mes</th>\n",
       "      <th>Idade</th>\n",
       "      <th>Tipologia</th>\n",
       "      <th>AreaConstruida</th>\n",
       "      <th>VAL_UNIT</th>\n",
       "      <th>X</th>\n",
       "      <th>Y</th>\n",
       "    </tr>\n",
       "  </thead>\n",
       "  <tbody>\n",
       "    <tr>\n",
       "      <th>748</th>\n",
       "      <td>1</td>\n",
       "      <td>6.0</td>\n",
       "      <td>2.0</td>\n",
       "      <td>2500</td>\n",
       "      <td>35</td>\n",
       "      <td>743</td>\n",
       "      <td>1524600</td>\n",
       "      <td>1275377</td>\n",
       "      <td>1399989</td>\n",
       "      <td>4100</td>\n",
       "      <td>360</td>\n",
       "      <td>58.0</td>\n",
       "      <td>1</td>\n",
       "      <td>668</td>\n",
       "      <td>4491</td>\n",
       "      <td>686456.25</td>\n",
       "      <td>7458801.05</td>\n",
       "    </tr>\n",
       "  </tbody>\n",
       "</table>\n",
       "</div>"
      ],
      "text/plain": [
       "     Posicao  Quartos  Vagas  DistIpanema  DistPraia  DistFavela  RendaMedia  \\\n",
       "748        1      6.0    2.0         2500         35         743     1524600   \n",
       "\n",
       "     RendaMovel  RendaMovelRua  Vu2009  Mes  Idade  Tipologia  AreaConstruida  \\\n",
       "748     1275377        1399989    4100  360   58.0          1             668   \n",
       "\n",
       "     VAL_UNIT          X           Y  \n",
       "748      4491  686456.25  7458801.05  "
      ]
     },
     "execution_count": 10,
     "metadata": {},
     "output_type": "execute_result"
    }
   ],
   "source": [
    "copacabana.loc[copacabana['Quartos'] > 5]"
   ]
  },
  {
   "cell_type": "code",
   "execution_count": 11,
   "metadata": {},
   "outputs": [],
   "source": [
    "#nova coluna\n",
    "copacabana['TOTAL'] = copacabana['AreaConstruida'] * copacabana['VAL_UNIT']"
   ]
  },
  {
   "cell_type": "code",
   "execution_count": 12,
   "metadata": {},
   "outputs": [
    {
     "data": {
      "text/plain": [
       "count    1.675000e+03\n",
       "mean     5.862613e+05\n",
       "std      4.804788e+05\n",
       "min      6.000000e+04\n",
       "25%      3.000000e+05\n",
       "50%      4.500320e+05\n",
       "75%      7.200115e+05\n",
       "max      6.199912e+06\n",
       "Name: TOTAL, dtype: float64"
      ]
     },
     "execution_count": 12,
     "metadata": {},
     "output_type": "execute_result"
    }
   ],
   "source": [
    "copacabana['TOTAL'].describe()"
   ]
  },
  {
   "cell_type": "code",
   "execution_count": 13,
   "metadata": {},
   "outputs": [
    {
     "data": {
      "text/plain": [
       "586261.3014925373"
      ]
     },
     "execution_count": 13,
     "metadata": {},
     "output_type": "execute_result"
    }
   ],
   "source": [
    "copacabana['TOTAL'].mean()"
   ]
  },
  {
   "cell_type": "code",
   "execution_count": null,
   "metadata": {},
   "outputs": [],
   "source": []
  }
 ],
 "metadata": {
  "kernelspec": {
   "display_name": "Python 2",
   "language": "python",
   "name": "python2"
  },
  "language_info": {
   "codemirror_mode": {
    "name": "ipython",
    "version": 2
   },
   "file_extension": ".py",
   "mimetype": "text/x-python",
   "name": "python",
   "nbconvert_exporter": "python",
   "pygments_lexer": "ipython2",
   "version": "2.7.15"
  }
 },
 "nbformat": 4,
 "nbformat_minor": 2
}
