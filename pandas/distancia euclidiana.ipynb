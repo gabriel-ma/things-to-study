{
 "cells": [
  {
   "cell_type": "code",
   "execution_count": 4,
   "metadata": {},
   "outputs": [
    {
     "name": "stdout",
     "output_type": "stream",
     "text": [
      "11.1803398875\n"
     ]
    }
   ],
   "source": [
    "import math\n",
    "#distância euclidiana\n",
    "x = [1,2,3,4,5]\n",
    "y = [6,7,8,9,10]\n",
    "\n",
    "def distancia_euclidiana(x, y):\n",
    "    soma = 0\n",
    "    for i in range(len(x)):\n",
    "        soma += math.pow(x[i] - y[i], 2)\n",
    "    return math.sqrt(soma)\n",
    "\n",
    "print(distancia_euclidiana(x, y))"
   ]
  },
  {
   "cell_type": "code",
   "execution_count": 7,
   "metadata": {},
   "outputs": [
    {
     "name": "stdout",
     "output_type": "stream",
     "text": [
      "11.1803398875\n"
     ]
    }
   ],
   "source": [
    "import numpy as np\n",
    "def distancia_euclidiana_np(x, y):\n",
    "    x, y = np.array(x), np.array(y)\n",
    "    diff = x - y\n",
    "    dist = np.dot(diff, diff)\n",
    "    return math.sqrt(dist)\n",
    "print(distancia_euclidiana_np(x, y))"
   ]
  },
  {
   "cell_type": "code",
   "execution_count": null,
   "metadata": {},
   "outputs": [],
   "source": []
  }
 ],
 "metadata": {
  "kernelspec": {
   "display_name": "Python 2",
   "language": "python",
   "name": "python2"
  },
  "language_info": {
   "codemirror_mode": {
    "name": "ipython",
    "version": 2
   },
   "file_extension": ".py",
   "mimetype": "text/x-python",
   "name": "python",
   "nbconvert_exporter": "python",
   "pygments_lexer": "ipython2",
   "version": "2.7.15"
  }
 },
 "nbformat": 4,
 "nbformat_minor": 2
}
